{
 "cells": [
  {
   "cell_type": "code",
   "execution_count": 1,
   "id": "320fd0b2",
   "metadata": {},
   "outputs": [],
   "source": [
    "s = \"this is My First Python programming class and i am learNING python string and its function\""
   ]
  },
  {
   "cell_type": "code",
   "execution_count": 2,
   "id": "775f8786",
   "metadata": {},
   "outputs": [
    {
     "data": {
      "text/plain": [
       "'h   r tnrrmglsnimeNGyosi dtfco'"
      ]
     },
     "execution_count": 2,
     "metadata": {},
     "output_type": "execute_result"
    }
   ],
   "source": [
    "s[1:300:3]"
   ]
  },
  {
   "cell_type": "code",
   "execution_count": 3,
   "id": "f3aa2d0b",
   "metadata": {},
   "outputs": [
    {
     "data": {
      "text/plain": [
       "'noitcnuf sti dna gnirts nohtyp GNINrael ma i dna ssalc gnimmargorp nohtyP tsriF yM si siht'"
      ]
     },
     "execution_count": 3,
     "metadata": {},
     "output_type": "execute_result"
    }
   ],
   "source": [
    "s[::-1]"
   ]
  },
  {
   "cell_type": "code",
   "execution_count": 4,
   "id": "70cc1f55",
   "metadata": {},
   "outputs": [
    {
     "data": {
      "text/plain": [
       "<function str.isupper()>"
      ]
     },
     "execution_count": 4,
     "metadata": {},
     "output_type": "execute_result"
    }
   ],
   "source": [
    "s.isupper"
   ]
  },
  {
   "cell_type": "code",
   "execution_count": 5,
   "id": "48ff6a7f",
   "metadata": {},
   "outputs": [
    {
     "data": {
      "text/plain": [
       "'THIS IS MY FIRST PYTHON PROGRAMMING CLASS AND I AM LEARNING PYTHON STRING AND ITS FUNCTION'"
      ]
     },
     "execution_count": 5,
     "metadata": {},
     "output_type": "execute_result"
    }
   ],
   "source": [
    "s.upper()"
   ]
  },
  {
   "cell_type": "code",
   "execution_count": 6,
   "id": "779f6c94",
   "metadata": {},
   "outputs": [
    {
     "data": {
      "text/plain": [
       "['this is My First Python programming class and i am learNING python string and its function']"
      ]
     },
     "execution_count": 6,
     "metadata": {},
     "output_type": "execute_result"
    }
   ],
   "source": [
    "s.split('AND')"
   ]
  },
  {
   "cell_type": "code",
   "execution_count": 8,
   "id": "47230d54",
   "metadata": {},
   "outputs": [
    {
     "data": {
      "text/plain": [
       "['this',\n",
       " 'is',\n",
       " 'My',\n",
       " 'First',\n",
       " 'Python',\n",
       " 'programming',\n",
       " 'class',\n",
       " 'and',\n",
       " 'i',\n",
       " 'am',\n",
       " 'learNING',\n",
       " 'python',\n",
       " 'string',\n",
       " 'and',\n",
       " 'its',\n",
       " 'function']"
      ]
     },
     "execution_count": 8,
     "metadata": {},
     "output_type": "execute_result"
    }
   ],
   "source": [
    "s.split(' ')"
   ]
  },
  {
   "cell_type": "code",
   "execution_count": 9,
   "id": "fd92c7d4",
   "metadata": {},
   "outputs": [
    {
     "data": {
      "text/plain": [
       "'this is my first python programming class and i am learning python string and its function'"
      ]
     },
     "execution_count": 9,
     "metadata": {},
     "output_type": "execute_result"
    }
   ],
   "source": [
    "s.lower()"
   ]
  },
  {
   "cell_type": "code",
   "execution_count": 10,
   "id": "9eb13182",
   "metadata": {},
   "outputs": [
    {
     "data": {
      "text/plain": [
       "'This is my first python programming class and i am learning python string and its function'"
      ]
     },
     "execution_count": 10,
     "metadata": {},
     "output_type": "execute_result"
    }
   ],
   "source": [
    "s.capitalize()"
   ]
  },
  {
   "cell_type": "code",
   "execution_count": 14,
   "id": "7d3e9d11",
   "metadata": {},
   "outputs": [
    {
     "ename": "SyntaxError",
     "evalue": "invalid syntax (Temp/ipykernel_10564/4092108781.py, line 1)",
     "output_type": "error",
     "traceback": [
      "\u001b[1;36m  File \u001b[1;32m\"C:\\Users\\reach\\AppData\\Local\\Temp/ipykernel_10564/4092108781.py\"\u001b[1;36m, line \u001b[1;32m1\u001b[0m\n\u001b[1;33m    The difference between isalnum() and isalpha() is that IsAlphaNumeric contains characters of both letters & Integers, for example '8oj3'.\u001b[0m\n\u001b[1;37m        ^\u001b[0m\n\u001b[1;31mSyntaxError\u001b[0m\u001b[1;31m:\u001b[0m invalid syntax\n"
     ]
    }
   ],
   "source": [
    "The difference between isalnum() and isalpha() is that IsAlphaNumeric contains characters of both letters & Integers, for example '8oj3'.\n",
    "Whereas IsAlphabet contains characters which only consists Letters, for example 'quthm'."
   ]
  },
  {
   "cell_type": "code",
   "execution_count": 15,
   "id": "6f0906b8",
   "metadata": {},
   "outputs": [],
   "source": [
    "r = 'retrograde\\tmercury'"
   ]
  },
  {
   "cell_type": "code",
   "execution_count": 17,
   "id": "0c416f72",
   "metadata": {},
   "outputs": [
    {
     "data": {
      "text/plain": [
       "'retrograde      mercury'"
      ]
     },
     "execution_count": 17,
     "metadata": {},
     "output_type": "execute_result"
    }
   ],
   "source": [
    "r.expandtabs()"
   ]
  },
  {
   "cell_type": "code",
   "execution_count": 30,
   "id": "a022b45d",
   "metadata": {},
   "outputs": [],
   "source": [
    "t = '       timelapse       '"
   ]
  },
  {
   "cell_type": "code",
   "execution_count": 31,
   "id": "ec9734e3",
   "metadata": {},
   "outputs": [
    {
     "data": {
      "text/plain": [
       "'timelapse'"
      ]
     },
     "execution_count": 31,
     "metadata": {},
     "output_type": "execute_result"
    }
   ],
   "source": [
    "t.strip()"
   ]
  },
  {
   "cell_type": "code",
   "execution_count": 32,
   "id": "ad59cab1",
   "metadata": {},
   "outputs": [
    {
     "data": {
      "text/plain": [
       "'       timelapse'"
      ]
     },
     "execution_count": 32,
     "metadata": {},
     "output_type": "execute_result"
    }
   ],
   "source": [
    "t.rstrip()"
   ]
  },
  {
   "cell_type": "code",
   "execution_count": 33,
   "id": "7c800366",
   "metadata": {},
   "outputs": [
    {
     "data": {
      "text/plain": [
       "'timelapse       '"
      ]
     },
     "execution_count": 33,
     "metadata": {},
     "output_type": "execute_result"
    }
   ],
   "source": [
    "t.lstrip()"
   ]
  },
  {
   "cell_type": "code",
   "execution_count": 37,
   "id": "7e57990c",
   "metadata": {},
   "outputs": [
    {
     "data": {
      "text/plain": [
       "'       timelapse       '"
      ]
     },
     "execution_count": 37,
     "metadata": {},
     "output_type": "execute_result"
    }
   ],
   "source": [
    "t"
   ]
  },
  {
   "cell_type": "code",
   "execution_count": 38,
   "id": "35381b52",
   "metadata": {},
   "outputs": [
    {
     "data": {
      "text/plain": [
       "'       hyperlapse       '"
      ]
     },
     "execution_count": 38,
     "metadata": {},
     "output_type": "execute_result"
    }
   ],
   "source": [
    "t.replace('time' , 'hyper')"
   ]
  },
  {
   "cell_type": "code",
   "execution_count": 39,
   "id": "c4908d2b",
   "metadata": {},
   "outputs": [
    {
     "data": {
      "text/plain": [
       "'this is My First Python programming class and i am learNING python string and its function'"
      ]
     },
     "execution_count": 39,
     "metadata": {},
     "output_type": "execute_result"
    }
   ],
   "source": [
    "s"
   ]
  },
  {
   "cell_type": "code",
   "execution_count": 40,
   "id": "37a224ea",
   "metadata": {},
   "outputs": [
    {
     "data": {
      "text/plain": [
       "'this is My 2nd Variable Python class and i am learNING python string and its function'"
      ]
     },
     "execution_count": 40,
     "metadata": {},
     "output_type": "execute_result"
    }
   ],
   "source": [
    "s.replace('First Python programming' , '2nd Variable Python')"
   ]
  },
  {
   "cell_type": "code",
   "execution_count": 42,
   "id": "344fe301",
   "metadata": {},
   "outputs": [
    {
     "ename": "SyntaxError",
     "evalue": "invalid syntax (Temp/ipykernel_10564/3646313043.py, line 1)",
     "output_type": "error",
     "traceback": [
      "\u001b[1;36m  File \u001b[1;32m\"C:\\Users\\reach\\AppData\\Local\\Temp/ipykernel_10564/3646313043.py\"\u001b[1;36m, line \u001b[1;32m1\u001b[0m\n\u001b[1;33m    The String.Center function is used to place/postion your string in between (in the center of the line) surrounded by the character we choose.\u001b[0m\n\u001b[1;37m        ^\u001b[0m\n\u001b[1;31mSyntaxError\u001b[0m\u001b[1;31m:\u001b[0m invalid syntax\n"
     ]
    }
   ],
   "source": [
    "The String.Center function is used to place/postion your string in between (in the center of the line) surrounded by the character we choose."
   ]
  },
  {
   "cell_type": "code",
   "execution_count": 46,
   "id": "3b2bae81",
   "metadata": {},
   "outputs": [],
   "source": [
    "k = 'Dev Data'"
   ]
  },
  {
   "cell_type": "code",
   "execution_count": 47,
   "id": "691a5828",
   "metadata": {},
   "outputs": [
    {
     "data": {
      "text/plain": [
       "'_______Dev Data______'"
      ]
     },
     "execution_count": 47,
     "metadata": {},
     "output_type": "execute_result"
    }
   ],
   "source": [
    "k.center(21,'_')"
   ]
  },
  {
   "cell_type": "code",
   "execution_count": 50,
   "id": "21d48470",
   "metadata": {},
   "outputs": [],
   "source": [
    "Interpreter = 'Only translates Single Program Statement at One Time into Machine Code'\n",
    "Compiler = 'Scans the entire program and translates the whole into the machine code'"
   ]
  },
  {
   "cell_type": "code",
   "execution_count": 51,
   "id": "3a0876c5",
   "metadata": {},
   "outputs": [],
   "source": [
    "Python = 'It is clearly a interpreted language as it translates each & every program statement one after one, line by line'"
   ]
  },
  {
   "cell_type": "code",
   "execution_count": 65,
   "id": "1c7796aa",
   "metadata": {},
   "outputs": [
    {
     "ename": "SyntaxError",
     "evalue": "invalid syntax (Temp/ipykernel_10564/2152445374.py, line 1)",
     "output_type": "error",
     "traceback": [
      "\u001b[1;36m  File \u001b[1;32m\"C:\\Users\\reach\\AppData\\Local\\Temp/ipykernel_10564/2152445374.py\"\u001b[1;36m, line \u001b[1;32m1\u001b[0m\n\u001b[1;33m    UseCase of Python = \"it is one of the latest interpreted programming language which is also among the simplest computer language used for coding, Often used widely to clean, manipulate, and automate data as well\"\u001b[0m\n\u001b[1;37m            ^\u001b[0m\n\u001b[1;31mSyntaxError\u001b[0m\u001b[1;31m:\u001b[0m invalid syntax\n"
     ]
    }
   ],
   "source": [
    "UseCase of Python = \"it is one of the latest interpreted programming language which is also among the simplest computer language used for coding, Often used widely to clean, manipulate, and automate data as well\""
   ]
  },
  {
   "cell_type": "code",
   "execution_count": null,
   "id": "afe17525",
   "metadata": {},
   "outputs": [],
   "source": []
  }
 ],
 "metadata": {
  "kernelspec": {
   "display_name": "Python 3 (ipykernel)",
   "language": "python",
   "name": "python3"
  },
  "language_info": {
   "codemirror_mode": {
    "name": "ipython",
    "version": 3
   },
   "file_extension": ".py",
   "mimetype": "text/x-python",
   "name": "python",
   "nbconvert_exporter": "python",
   "pygments_lexer": "ipython3",
   "version": "3.9.7"
  }
 },
 "nbformat": 4,
 "nbformat_minor": 5
}
