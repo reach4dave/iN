{
 "cells": [
  {
   "cell_type": "code",
   "execution_count": 1,
   "id": "a2c6e193",
   "metadata": {},
   "outputs": [],
   "source": [
    "z = \"fsds ineuron\""
   ]
  },
  {
   "cell_type": "code",
   "execution_count": 2,
   "id": "9f834c9c",
   "metadata": {},
   "outputs": [
    {
     "data": {
      "text/plain": [
       "str"
      ]
     },
     "execution_count": 2,
     "metadata": {},
     "output_type": "execute_result"
    }
   ],
   "source": [
    "type(z)"
   ]
  },
  {
   "cell_type": "code",
   "execution_count": 5,
   "id": "7b9cce8c",
   "metadata": {},
   "outputs": [
    {
     "data": {
      "text/plain": [
       "'s'"
      ]
     },
     "execution_count": 5,
     "metadata": {},
     "output_type": "execute_result"
    }
   ],
   "source": [
    "z[1]"
   ]
  },
  {
   "cell_type": "code",
   "execution_count": 6,
   "id": "7f7cab74",
   "metadata": {},
   "outputs": [
    {
     "data": {
      "text/plain": [
       "'u'"
      ]
     },
     "execution_count": 6,
     "metadata": {},
     "output_type": "execute_result"
    }
   ],
   "source": [
    "z[8]"
   ]
  },
  {
   "cell_type": "code",
   "execution_count": 7,
   "id": "713be7f3",
   "metadata": {},
   "outputs": [
    {
     "data": {
      "text/plain": [
       "'o'"
      ]
     },
     "execution_count": 7,
     "metadata": {},
     "output_type": "execute_result"
    }
   ],
   "source": [
    "z[-2]"
   ]
  },
  {
   "cell_type": "code",
   "execution_count": 8,
   "id": "bef41e24",
   "metadata": {},
   "outputs": [],
   "source": [
    "z1 = \"dev\""
   ]
  },
  {
   "cell_type": "code",
   "execution_count": 9,
   "id": "c2a6e775",
   "metadata": {},
   "outputs": [
    {
     "data": {
      "text/plain": [
       "'d'"
      ]
     },
     "execution_count": 9,
     "metadata": {},
     "output_type": "execute_result"
    }
   ],
   "source": [
    "z1[-3]"
   ]
  },
  {
   "cell_type": "code",
   "execution_count": 15,
   "id": "84f6a3e0",
   "metadata": {},
   "outputs": [],
   "source": [
    "z2 = \"what are you doing man's\""
   ]
  },
  {
   "cell_type": "markdown",
   "id": "9cd91d98",
   "metadata": {},
   "source": [
    "z2 "
   ]
  },
  {
   "cell_type": "code",
   "execution_count": 16,
   "id": "1594789c",
   "metadata": {},
   "outputs": [
    {
     "data": {
      "text/plain": [
       "\"what are you doing man's\""
      ]
     },
     "execution_count": 16,
     "metadata": {},
     "output_type": "execute_result"
    }
   ],
   "source": [
    "z2"
   ]
  },
  {
   "cell_type": "code",
   "execution_count": 14,
   "id": "9da88532",
   "metadata": {},
   "outputs": [
    {
     "data": {
      "text/plain": [
       "'r'"
      ]
     },
     "execution_count": 14,
     "metadata": {},
     "output_type": "execute_result"
    }
   ],
   "source": [
    "z2[6]"
   ]
  },
  {
   "cell_type": "code",
   "execution_count": 17,
   "id": "7e8a42ff",
   "metadata": {},
   "outputs": [
    {
     "data": {
      "text/plain": [
       "'at are'"
      ]
     },
     "execution_count": 17,
     "metadata": {},
     "output_type": "execute_result"
    }
   ],
   "source": [
    "z2[2:8]"
   ]
  },
  {
   "cell_type": "code",
   "execution_count": 18,
   "id": "0c36a0d5",
   "metadata": {},
   "outputs": [
    {
     "data": {
      "text/plain": [
       "'hat are '"
      ]
     },
     "execution_count": 18,
     "metadata": {},
     "output_type": "execute_result"
    }
   ],
   "source": [
    "z2[1:9]"
   ]
  },
  {
   "cell_type": "code",
   "execution_count": 20,
   "id": "8ada16d9",
   "metadata": {},
   "outputs": [
    {
     "data": {
      "text/plain": [
       "'aeyudi'"
      ]
     },
     "execution_count": 20,
     "metadata": {},
     "output_type": "execute_result"
    }
   ],
   "source": [
    "z2[5:17:2]"
   ]
  },
  {
   "cell_type": "code",
   "execution_count": 21,
   "id": "dcd96434",
   "metadata": {},
   "outputs": [],
   "source": [
    "z = 'zandu balm'"
   ]
  },
  {
   "cell_type": "code",
   "execution_count": 22,
   "id": "a82d2a1f",
   "metadata": {},
   "outputs": [
    {
     "data": {
      "text/plain": [
       "'znubl'"
      ]
     },
     "execution_count": 22,
     "metadata": {},
     "output_type": "execute_result"
    }
   ],
   "source": [
    "z[0:10:2]"
   ]
  },
  {
   "cell_type": "code",
   "execution_count": 23,
   "id": "c44dadf6",
   "metadata": {},
   "outputs": [
    {
     "data": {
      "text/plain": [
       "'zandu balm'"
      ]
     },
     "execution_count": 23,
     "metadata": {},
     "output_type": "execute_result"
    }
   ],
   "source": [
    "z"
   ]
  },
  {
   "cell_type": "code",
   "execution_count": 24,
   "id": "150cd711",
   "metadata": {},
   "outputs": [
    {
     "data": {
      "text/plain": [
       "''"
      ]
     },
     "execution_count": 24,
     "metadata": {},
     "output_type": "execute_result"
    }
   ],
   "source": [
    "z[1:7:-1]"
   ]
  },
  {
   "cell_type": "code",
   "execution_count": 25,
   "id": "ea70b88b",
   "metadata": {},
   "outputs": [
    {
     "data": {
      "text/plain": [
       "'ab udn'"
      ]
     },
     "execution_count": 25,
     "metadata": {},
     "output_type": "execute_result"
    }
   ],
   "source": [
    "z[7:1:-1]"
   ]
  },
  {
   "cell_type": "code",
   "execution_count": 26,
   "id": "f7e38d71",
   "metadata": {},
   "outputs": [
    {
     "data": {
      "text/plain": [
       "'a d'"
      ]
     },
     "execution_count": 26,
     "metadata": {},
     "output_type": "execute_result"
    }
   ],
   "source": [
    "z[7:1:-2]"
   ]
  },
  {
   "cell_type": "code",
   "execution_count": 27,
   "id": "d50bdfed",
   "metadata": {},
   "outputs": [
    {
     "data": {
      "text/plain": [
       "'zandu b'"
      ]
     },
     "execution_count": 27,
     "metadata": {},
     "output_type": "execute_result"
    }
   ],
   "source": [
    "z[:-3]"
   ]
  },
  {
   "cell_type": "code",
   "execution_count": 28,
   "id": "b1d391a9",
   "metadata": {},
   "outputs": [
    {
     "data": {
      "text/plain": [
       "'lm'"
      ]
     },
     "execution_count": 28,
     "metadata": {},
     "output_type": "execute_result"
    }
   ],
   "source": [
    "z[-2:]"
   ]
  },
  {
   "cell_type": "code",
   "execution_count": 29,
   "id": "230664ae",
   "metadata": {},
   "outputs": [
    {
     "data": {
      "text/plain": [
       "'z'"
      ]
     },
     "execution_count": 29,
     "metadata": {},
     "output_type": "execute_result"
    }
   ],
   "source": [
    "z[:1]"
   ]
  },
  {
   "cell_type": "code",
   "execution_count": 30,
   "id": "4897ab4c",
   "metadata": {},
   "outputs": [
    {
     "data": {
      "text/plain": [
       "'zandu balm'"
      ]
     },
     "execution_count": 30,
     "metadata": {},
     "output_type": "execute_result"
    }
   ],
   "source": [
    "z[::1]"
   ]
  },
  {
   "cell_type": "code",
   "execution_count": 31,
   "id": "66f293de",
   "metadata": {},
   "outputs": [
    {
     "data": {
      "text/plain": [
       "'zandu'"
      ]
     },
     "execution_count": 31,
     "metadata": {},
     "output_type": "execute_result"
    }
   ],
   "source": [
    "z[0:5:1]"
   ]
  },
  {
   "cell_type": "code",
   "execution_count": 32,
   "id": "ac59b696",
   "metadata": {},
   "outputs": [
    {
     "data": {
      "text/plain": [
       "'zandu bal'"
      ]
     },
     "execution_count": 32,
     "metadata": {},
     "output_type": "execute_result"
    }
   ],
   "source": [
    "z[:-1]"
   ]
  },
  {
   "cell_type": "code",
   "execution_count": 33,
   "id": "d69223ef",
   "metadata": {},
   "outputs": [
    {
     "data": {
      "text/plain": [
       "'mlab udnaz'"
      ]
     },
     "execution_count": 33,
     "metadata": {},
     "output_type": "execute_result"
    }
   ],
   "source": [
    "z[::-1]"
   ]
  },
  {
   "cell_type": "code",
   "execution_count": 34,
   "id": "6e1dfcf0",
   "metadata": {},
   "outputs": [
    {
     "data": {
      "text/plain": [
       "'zandu balm'"
      ]
     },
     "execution_count": 34,
     "metadata": {},
     "output_type": "execute_result"
    }
   ],
   "source": [
    "z"
   ]
  },
  {
   "cell_type": "code",
   "execution_count": 36,
   "id": "565bcff3",
   "metadata": {},
   "outputs": [
    {
     "data": {
      "text/plain": [
       "'mlab udna'"
      ]
     },
     "execution_count": 36,
     "metadata": {},
     "output_type": "execute_result"
    }
   ],
   "source": [
    "z[10:0:-1]"
   ]
  },
  {
   "cell_type": "code",
   "execution_count": 37,
   "id": "458158ca",
   "metadata": {},
   "outputs": [
    {
     "data": {
      "text/plain": [
       "''"
      ]
     },
     "execution_count": 37,
     "metadata": {},
     "output_type": "execute_result"
    }
   ],
   "source": [
    "z[10:0]"
   ]
  },
  {
   "cell_type": "code",
   "execution_count": 38,
   "id": "311f2c72",
   "metadata": {},
   "outputs": [
    {
     "data": {
      "text/plain": [
       "''"
      ]
     },
     "execution_count": 38,
     "metadata": {},
     "output_type": "execute_result"
    }
   ],
   "source": [
    "z[10:0:1]"
   ]
  },
  {
   "cell_type": "code",
   "execution_count": 39,
   "id": "d26a86df",
   "metadata": {},
   "outputs": [
    {
     "data": {
      "text/plain": [
       "'zandu balm'"
      ]
     },
     "execution_count": 39,
     "metadata": {},
     "output_type": "execute_result"
    }
   ],
   "source": [
    "z[::1]"
   ]
  },
  {
   "cell_type": "code",
   "execution_count": 40,
   "id": "1fc5df21",
   "metadata": {},
   "outputs": [
    {
     "data": {
      "text/plain": [
       "'mlab udnaz'"
      ]
     },
     "execution_count": 40,
     "metadata": {},
     "output_type": "execute_result"
    }
   ],
   "source": [
    "z[::-1]"
   ]
  },
  {
   "cell_type": "code",
   "execution_count": 42,
   "id": "8129cc1c",
   "metadata": {},
   "outputs": [],
   "source": [
    "z1 = 'fsds ineuron'"
   ]
  },
  {
   "cell_type": "code",
   "execution_count": 43,
   "id": "c6b6f5af",
   "metadata": {},
   "outputs": [
    {
     "data": {
      "text/plain": [
       "'fsds ineuron'"
      ]
     },
     "execution_count": 43,
     "metadata": {},
     "output_type": "execute_result"
    }
   ],
   "source": [
    "z1"
   ]
  },
  {
   "cell_type": "code",
   "execution_count": 44,
   "id": "95f40120",
   "metadata": {},
   "outputs": [
    {
     "data": {
      "text/plain": [
       "''"
      ]
     },
     "execution_count": 44,
     "metadata": {},
     "output_type": "execute_result"
    }
   ],
   "source": [
    "z1[-2:-7:1]"
   ]
  },
  {
   "cell_type": "code",
   "execution_count": 45,
   "id": "7de2bf5a",
   "metadata": {},
   "outputs": [
    {
     "data": {
      "text/plain": [
       "'ineur'"
      ]
     },
     "execution_count": 45,
     "metadata": {},
     "output_type": "execute_result"
    }
   ],
   "source": [
    "z1[-7:-2:1]"
   ]
  },
  {
   "cell_type": "code",
   "execution_count": 46,
   "id": "6cd5caa0",
   "metadata": {},
   "outputs": [
    {
     "data": {
      "text/plain": [
       "'i sds'"
      ]
     },
     "execution_count": 46,
     "metadata": {},
     "output_type": "execute_result"
    }
   ],
   "source": [
    "z1[5:0:-1]"
   ]
  },
  {
   "cell_type": "code",
   "execution_count": 47,
   "id": "08b1317d",
   "metadata": {},
   "outputs": [
    {
     "ename": "TypeError",
     "evalue": "can only concatenate str (not \"int\") to str",
     "output_type": "error",
     "traceback": [
      "\u001b[1;31m---------------------------------------------------------------------------\u001b[0m",
      "\u001b[1;31mTypeError\u001b[0m                                 Traceback (most recent call last)",
      "\u001b[1;32m~\\AppData\\Local\\Temp/ipykernel_14460/442999276.py\u001b[0m in \u001b[0;36m<module>\u001b[1;34m\u001b[0m\n\u001b[1;32m----> 1\u001b[1;33m \u001b[0mz\u001b[0m \u001b[1;33m+\u001b[0m \u001b[1;36m1\u001b[0m\u001b[1;33m\u001b[0m\u001b[1;33m\u001b[0m\u001b[0m\n\u001b[0m",
      "\u001b[1;31mTypeError\u001b[0m: can only concatenate str (not \"int\") to str"
     ]
    }
   ],
   "source": [
    "z + 1"
   ]
  },
  {
   "cell_type": "code",
   "execution_count": 48,
   "id": "ee809ad0",
   "metadata": {},
   "outputs": [
    {
     "ename": "NameError",
     "evalue": "name 'Z' is not defined",
     "output_type": "error",
     "traceback": [
      "\u001b[1;31m---------------------------------------------------------------------------\u001b[0m",
      "\u001b[1;31mNameError\u001b[0m                                 Traceback (most recent call last)",
      "\u001b[1;32m~\\AppData\\Local\\Temp/ipykernel_14460/2402995223.py\u001b[0m in \u001b[0;36m<module>\u001b[1;34m\u001b[0m\n\u001b[1;32m----> 1\u001b[1;33m \u001b[0mZ\u001b[0m \u001b[1;33m+\u001b[0m \u001b[1;34m'1'\u001b[0m\u001b[1;33m\u001b[0m\u001b[1;33m\u001b[0m\u001b[0m\n\u001b[0m",
      "\u001b[1;31mNameError\u001b[0m: name 'Z' is not defined"
     ]
    }
   ],
   "source": [
    "Z + '1'"
   ]
  },
  {
   "cell_type": "code",
   "execution_count": 49,
   "id": "d4539950",
   "metadata": {},
   "outputs": [
    {
     "data": {
      "text/plain": [
       "'zandu balm'"
      ]
     },
     "execution_count": 49,
     "metadata": {},
     "output_type": "execute_result"
    }
   ],
   "source": [
    "z"
   ]
  },
  {
   "cell_type": "code",
   "execution_count": 50,
   "id": "b21b4f7f",
   "metadata": {},
   "outputs": [
    {
     "data": {
      "text/plain": [
       "'zandu balm1'"
      ]
     },
     "execution_count": 50,
     "metadata": {},
     "output_type": "execute_result"
    }
   ],
   "source": [
    "z+'1'"
   ]
  },
  {
   "cell_type": "code",
   "execution_count": 51,
   "id": "24766d01",
   "metadata": {},
   "outputs": [
    {
     "data": {
      "text/plain": [
       "10"
      ]
     },
     "execution_count": 51,
     "metadata": {},
     "output_type": "execute_result"
    }
   ],
   "source": [
    "len(z)"
   ]
  },
  {
   "cell_type": "code",
   "execution_count": 52,
   "id": "e5e533ef",
   "metadata": {},
   "outputs": [
    {
     "data": {
      "text/plain": [
       "11"
      ]
     },
     "execution_count": 52,
     "metadata": {},
     "output_type": "execute_result"
    }
   ],
   "source": [
    "len(z+'1')"
   ]
  },
  {
   "cell_type": "code",
   "execution_count": 53,
   "id": "e7785383",
   "metadata": {},
   "outputs": [
    {
     "data": {
      "text/plain": [
       "'zandu balmzandu balm'"
      ]
     },
     "execution_count": 53,
     "metadata": {},
     "output_type": "execute_result"
    }
   ],
   "source": [
    "z*2"
   ]
  },
  {
   "cell_type": "code",
   "execution_count": 54,
   "id": "59827d49",
   "metadata": {},
   "outputs": [
    {
     "ename": "TypeError",
     "evalue": "unsupported operand type(s) for /: 'str' and 'int'",
     "output_type": "error",
     "traceback": [
      "\u001b[1;31m---------------------------------------------------------------------------\u001b[0m",
      "\u001b[1;31mTypeError\u001b[0m                                 Traceback (most recent call last)",
      "\u001b[1;32m~\\AppData\\Local\\Temp/ipykernel_14460/4222079619.py\u001b[0m in \u001b[0;36m<module>\u001b[1;34m\u001b[0m\n\u001b[1;32m----> 1\u001b[1;33m \u001b[0mz\u001b[0m\u001b[1;33m/\u001b[0m\u001b[1;36m2\u001b[0m\u001b[1;33m\u001b[0m\u001b[1;33m\u001b[0m\u001b[0m\n\u001b[0m",
      "\u001b[1;31mTypeError\u001b[0m: unsupported operand type(s) for /: 'str' and 'int'"
     ]
    }
   ],
   "source": [
    "z/2"
   ]
  },
  {
   "cell_type": "code",
   "execution_count": 56,
   "id": "161134c4",
   "metadata": {},
   "outputs": [
    {
     "data": {
      "text/plain": [
       "2"
      ]
     },
     "execution_count": 56,
     "metadata": {},
     "output_type": "execute_result"
    }
   ],
   "source": [
    "z.count('a')"
   ]
  },
  {
   "cell_type": "code",
   "execution_count": 57,
   "id": "feef43b8",
   "metadata": {},
   "outputs": [
    {
     "data": {
      "text/plain": [
       "1"
      ]
     },
     "execution_count": 57,
     "metadata": {},
     "output_type": "execute_result"
    }
   ],
   "source": [
    "z.count('zandu')"
   ]
  },
  {
   "cell_type": "code",
   "execution_count": 58,
   "id": "36d71d34",
   "metadata": {},
   "outputs": [
    {
     "data": {
      "text/plain": [
       "['zandu ba', 'm']"
      ]
     },
     "execution_count": 58,
     "metadata": {},
     "output_type": "execute_result"
    }
   ],
   "source": [
    "z.split('l')"
   ]
  },
  {
   "cell_type": "code",
   "execution_count": 59,
   "id": "7e139808",
   "metadata": {},
   "outputs": [],
   "source": [
    "zw = 'A platform where you will explore, experiment, learn, participate and build a project based on an industry-defined approach.'"
   ]
  },
  {
   "cell_type": "code",
   "execution_count": 60,
   "id": "394ea65e",
   "metadata": {},
   "outputs": [
    {
     "data": {
      "text/plain": [
       "'A platform where you will explore, experiment, learn, participate and build a project based on an industry-defined approach.'"
      ]
     },
     "execution_count": 60,
     "metadata": {},
     "output_type": "execute_result"
    }
   ],
   "source": [
    "zw"
   ]
  },
  {
   "cell_type": "code",
   "execution_count": 61,
   "id": "1242015f",
   "metadata": {},
   "outputs": [
    {
     "data": {
      "text/plain": [
       "['A',\n",
       " 'platform',\n",
       " 'where',\n",
       " 'you',\n",
       " 'will',\n",
       " 'explore,',\n",
       " 'experiment,',\n",
       " 'learn,',\n",
       " 'participate',\n",
       " 'and',\n",
       " 'build',\n",
       " 'a',\n",
       " 'project',\n",
       " 'based',\n",
       " 'on',\n",
       " 'an',\n",
       " 'industry-defined',\n",
       " 'approach.']"
      ]
     },
     "execution_count": 61,
     "metadata": {},
     "output_type": "execute_result"
    }
   ],
   "source": [
    "zw.split(' ')"
   ]
  },
  {
   "cell_type": "code",
   "execution_count": 65,
   "id": "05b84a82",
   "metadata": {},
   "outputs": [
    {
     "data": {
      "text/plain": [
       "'A platform where you will explore, experiment, learn, participate and build a project based on an industry-defined approach.'"
      ]
     },
     "execution_count": 65,
     "metadata": {},
     "output_type": "execute_result"
    }
   ],
   "source": [
    "zw.capitalize()"
   ]
  },
  {
   "cell_type": "code",
   "execution_count": 66,
   "id": "45a80a64",
   "metadata": {},
   "outputs": [
    {
     "data": {
      "text/plain": [
       "'A PLATFORM WHERE YOU WILL EXPLORE, EXPERIMENT, LEARN, PARTICIPATE AND BUILD A PROJECT BASED ON AN INDUSTRY-DEFINED APPROACH.'"
      ]
     },
     "execution_count": 66,
     "metadata": {},
     "output_type": "execute_result"
    }
   ],
   "source": [
    "zw.upper()"
   ]
  },
  {
   "cell_type": "code",
   "execution_count": 67,
   "id": "869a367d",
   "metadata": {},
   "outputs": [],
   "source": [
    "zw = zw.upper()"
   ]
  },
  {
   "cell_type": "code",
   "execution_count": 68,
   "id": "f34b631b",
   "metadata": {},
   "outputs": [
    {
     "data": {
      "text/plain": [
       "'A PLATFORM WHERE YOU WILL EXPLORE, EXPERIMENT, LEARN, PARTICIPATE AND BUILD A PROJECT BASED ON AN INDUSTRY-DEFINED APPROACH.'"
      ]
     },
     "execution_count": 68,
     "metadata": {},
     "output_type": "execute_result"
    }
   ],
   "source": [
    "zw"
   ]
  },
  {
   "cell_type": "code",
   "execution_count": 69,
   "id": "30af659f",
   "metadata": {},
   "outputs": [
    {
     "data": {
      "text/plain": [
       "'Zandu Balm'"
      ]
     },
     "execution_count": 69,
     "metadata": {},
     "output_type": "execute_result"
    }
   ],
   "source": [
    "z.title()"
   ]
  },
  {
   "cell_type": "code",
   "execution_count": 70,
   "id": "9bc80744",
   "metadata": {},
   "outputs": [
    {
     "data": {
      "text/plain": [
       "'ZANDU BALM'"
      ]
     },
     "execution_count": 70,
     "metadata": {},
     "output_type": "execute_result"
    }
   ],
   "source": [
    "z.swapcase()"
   ]
  },
  {
   "cell_type": "code",
   "execution_count": 71,
   "id": "e45c2bb5",
   "metadata": {},
   "outputs": [],
   "source": [
    "z = z.capitalize()"
   ]
  },
  {
   "cell_type": "code",
   "execution_count": 72,
   "id": "9c8c1fce",
   "metadata": {},
   "outputs": [
    {
     "data": {
      "text/plain": [
       "'Zandu balm'"
      ]
     },
     "execution_count": 72,
     "metadata": {},
     "output_type": "execute_result"
    }
   ],
   "source": [
    "z"
   ]
  },
  {
   "cell_type": "code",
   "execution_count": 73,
   "id": "6f3ba668",
   "metadata": {},
   "outputs": [
    {
     "data": {
      "text/plain": [
       "'zANDU BALM'"
      ]
     },
     "execution_count": 73,
     "metadata": {},
     "output_type": "execute_result"
    }
   ],
   "source": [
    "z.swapcase()"
   ]
  },
  {
   "cell_type": "code",
   "execution_count": 74,
   "id": "c551be8c",
   "metadata": {},
   "outputs": [
    {
     "data": {
      "text/plain": [
       "'mlab udnaZ'"
      ]
     },
     "execution_count": 74,
     "metadata": {},
     "output_type": "execute_result"
    }
   ],
   "source": [
    "''.join(reversed(z))"
   ]
  },
  {
   "cell_type": "code",
   "execution_count": 75,
   "id": "abb8bffd",
   "metadata": {},
   "outputs": [
    {
     "data": {
      "text/plain": [
       "'mlab udnaZ'"
      ]
     },
     "execution_count": 75,
     "metadata": {},
     "output_type": "execute_result"
    }
   ],
   "source": [
    "z[::-1]"
   ]
  },
  {
   "cell_type": "code",
   "execution_count": 76,
   "id": "92a06a7f",
   "metadata": {},
   "outputs": [],
   "source": [
    "z = '   zandu balm   '"
   ]
  },
  {
   "cell_type": "code",
   "execution_count": 77,
   "id": "0484a854",
   "metadata": {},
   "outputs": [
    {
     "data": {
      "text/plain": [
       "'zandu balm'"
      ]
     },
     "execution_count": 77,
     "metadata": {},
     "output_type": "execute_result"
    }
   ],
   "source": [
    "z.strip()"
   ]
  },
  {
   "cell_type": "code",
   "execution_count": 78,
   "id": "853021c0",
   "metadata": {},
   "outputs": [
    {
     "data": {
      "text/plain": [
       "'zandu balm   '"
      ]
     },
     "execution_count": 78,
     "metadata": {},
     "output_type": "execute_result"
    }
   ],
   "source": [
    "z.lstrip()"
   ]
  },
  {
   "cell_type": "code",
   "execution_count": 79,
   "id": "cb106685",
   "metadata": {},
   "outputs": [
    {
     "data": {
      "text/plain": [
       "'   zandu balm'"
      ]
     },
     "execution_count": 79,
     "metadata": {},
     "output_type": "execute_result"
    }
   ],
   "source": [
    "z.rstrip()"
   ]
  },
  {
   "cell_type": "code",
   "execution_count": 81,
   "id": "079b898b",
   "metadata": {},
   "outputs": [],
   "source": [
    "z = 'zandu'"
   ]
  },
  {
   "cell_type": "code",
   "execution_count": 82,
   "id": "cdb9c4d7",
   "metadata": {},
   "outputs": [
    {
     "data": {
      "text/plain": [
       "'zandu'"
      ]
     },
     "execution_count": 82,
     "metadata": {},
     "output_type": "execute_result"
    }
   ],
   "source": [
    "z"
   ]
  },
  {
   "cell_type": "code",
   "execution_count": 83,
   "id": "b2f9e993",
   "metadata": {},
   "outputs": [
    {
     "data": {
      "text/plain": [
       "'*****zandu*****'"
      ]
     },
     "execution_count": 83,
     "metadata": {},
     "output_type": "execute_result"
    }
   ],
   "source": [
    "z.center(15,'*')"
   ]
  },
  {
   "cell_type": "code",
   "execution_count": 84,
   "id": "cfff2121",
   "metadata": {},
   "outputs": [
    {
     "data": {
      "text/plain": [
       "True"
      ]
     },
     "execution_count": 84,
     "metadata": {},
     "output_type": "execute_result"
    }
   ],
   "source": [
    "z.islower()"
   ]
  },
  {
   "cell_type": "code",
   "execution_count": 86,
   "id": "554c8453",
   "metadata": {},
   "outputs": [
    {
     "data": {
      "text/plain": [
       "False"
      ]
     },
     "execution_count": 86,
     "metadata": {},
     "output_type": "execute_result"
    }
   ],
   "source": [
    "z.isupper()"
   ]
  },
  {
   "cell_type": "code",
   "execution_count": 87,
   "id": "aa672e88",
   "metadata": {},
   "outputs": [
    {
     "data": {
      "text/plain": [
       "False"
      ]
     },
     "execution_count": 87,
     "metadata": {},
     "output_type": "execute_result"
    }
   ],
   "source": [
    "z.istitle()"
   ]
  },
  {
   "cell_type": "code",
   "execution_count": 89,
   "id": "9d115f3d",
   "metadata": {},
   "outputs": [],
   "source": [
    "z='ZANDU'"
   ]
  },
  {
   "cell_type": "code",
   "execution_count": 90,
   "id": "4198fa11",
   "metadata": {},
   "outputs": [
    {
     "data": {
      "text/plain": [
       "'ZANDU'"
      ]
     },
     "execution_count": 90,
     "metadata": {},
     "output_type": "execute_result"
    }
   ],
   "source": [
    "z"
   ]
  },
  {
   "cell_type": "code",
   "execution_count": 92,
   "id": "322141b7",
   "metadata": {},
   "outputs": [
    {
     "data": {
      "text/plain": [
       "False"
      ]
     },
     "execution_count": 92,
     "metadata": {},
     "output_type": "execute_result"
    }
   ],
   "source": [
    "z.istitle()"
   ]
  },
  {
   "cell_type": "code",
   "execution_count": 93,
   "id": "bb6fcf7b",
   "metadata": {},
   "outputs": [
    {
     "data": {
      "text/plain": [
       "False"
      ]
     },
     "execution_count": 93,
     "metadata": {},
     "output_type": "execute_result"
    }
   ],
   "source": [
    "z.isspace()"
   ]
  },
  {
   "cell_type": "code",
   "execution_count": 95,
   "id": "5783c47a",
   "metadata": {},
   "outputs": [
    {
     "data": {
      "text/plain": [
       "False"
      ]
     },
     "execution_count": 95,
     "metadata": {},
     "output_type": "execute_result"
    }
   ],
   "source": [
    "z.isdigit()"
   ]
  },
  {
   "cell_type": "code",
   "execution_count": 96,
   "id": "07fb5484",
   "metadata": {},
   "outputs": [],
   "source": [
    "z2='12345'"
   ]
  },
  {
   "cell_type": "code",
   "execution_count": 97,
   "id": "0f1ad8a7",
   "metadata": {},
   "outputs": [
    {
     "data": {
      "text/plain": [
       "True"
      ]
     },
     "execution_count": 97,
     "metadata": {},
     "output_type": "execute_result"
    }
   ],
   "source": [
    "z2.isdigit()"
   ]
  },
  {
   "cell_type": "code",
   "execution_count": 100,
   "id": "87362a91",
   "metadata": {},
   "outputs": [],
   "source": [
    "z2 = ' '"
   ]
  },
  {
   "cell_type": "code",
   "execution_count": 101,
   "id": "674d2d77",
   "metadata": {},
   "outputs": [
    {
     "data": {
      "text/plain": [
       "True"
      ]
     },
     "execution_count": 101,
     "metadata": {},
     "output_type": "execute_result"
    }
   ],
   "source": [
    "z2.isspace()"
   ]
  },
  {
   "cell_type": "code",
   "execution_count": 102,
   "id": "fc2d6db5",
   "metadata": {},
   "outputs": [],
   "source": [
    "z2='123abc'"
   ]
  },
  {
   "cell_type": "code",
   "execution_count": 103,
   "id": "cf7d1e44",
   "metadata": {},
   "outputs": [
    {
     "data": {
      "text/plain": [
       "True"
      ]
     },
     "execution_count": 103,
     "metadata": {},
     "output_type": "execute_result"
    }
   ],
   "source": [
    "z2.isalnum()"
   ]
  },
  {
   "cell_type": "code",
   "execution_count": 104,
   "id": "356b4c51",
   "metadata": {},
   "outputs": [
    {
     "data": {
      "text/plain": [
       "False"
      ]
     },
     "execution_count": 104,
     "metadata": {},
     "output_type": "execute_result"
    }
   ],
   "source": [
    "z2.isalpha()"
   ]
  },
  {
   "cell_type": "code",
   "execution_count": 105,
   "id": "91583997",
   "metadata": {},
   "outputs": [
    {
     "data": {
      "text/plain": [
       "False"
      ]
     },
     "execution_count": 105,
     "metadata": {},
     "output_type": "execute_result"
    }
   ],
   "source": [
    "z2.isnumeric()"
   ]
  },
  {
   "cell_type": "code",
   "execution_count": 106,
   "id": "a2af78e4",
   "metadata": {},
   "outputs": [
    {
     "data": {
      "text/plain": [
       "True"
      ]
     },
     "execution_count": 106,
     "metadata": {},
     "output_type": "execute_result"
    }
   ],
   "source": [
    "z2.startswith('1')"
   ]
  },
  {
   "cell_type": "code",
   "execution_count": 107,
   "id": "e4c4905b",
   "metadata": {},
   "outputs": [
    {
     "data": {
      "text/plain": [
       "False"
      ]
     },
     "execution_count": 107,
     "metadata": {},
     "output_type": "execute_result"
    }
   ],
   "source": [
    "z2.startswith('a')"
   ]
  },
  {
   "cell_type": "code",
   "execution_count": 108,
   "id": "196f57c2",
   "metadata": {},
   "outputs": [
    {
     "data": {
      "text/plain": [
       "False"
      ]
     },
     "execution_count": 108,
     "metadata": {},
     "output_type": "execute_result"
    }
   ],
   "source": [
    "z2.endswith('3')"
   ]
  },
  {
   "cell_type": "code",
   "execution_count": 109,
   "id": "7703edab",
   "metadata": {},
   "outputs": [
    {
     "data": {
      "text/plain": [
       "True"
      ]
     },
     "execution_count": 109,
     "metadata": {},
     "output_type": "execute_result"
    }
   ],
   "source": [
    "z2.endswith('c')"
   ]
  },
  {
   "cell_type": "code",
   "execution_count": 110,
   "id": "bf6957ba",
   "metadata": {},
   "outputs": [
    {
     "data": {
      "text/plain": [
       "'z'"
      ]
     },
     "execution_count": 110,
     "metadata": {},
     "output_type": "execute_result"
    }
   ],
   "source": [
    "'m'.join('z')"
   ]
  },
  {
   "cell_type": "code",
   "execution_count": 111,
   "id": "b785bd92",
   "metadata": {},
   "outputs": [
    {
     "data": {
      "text/plain": [
       "'ZANDU'"
      ]
     },
     "execution_count": 111,
     "metadata": {},
     "output_type": "execute_result"
    }
   ],
   "source": [
    "z"
   ]
  },
  {
   "cell_type": "code",
   "execution_count": 112,
   "id": "5954cdb4",
   "metadata": {},
   "outputs": [
    {
     "data": {
      "text/plain": [
       "'zmamnmdmu'"
      ]
     },
     "execution_count": 112,
     "metadata": {},
     "output_type": "execute_result"
    }
   ],
   "source": [
    "'m'.join('zandu')"
   ]
  },
  {
   "cell_type": "code",
   "execution_count": 117,
   "id": "6583e58b",
   "metadata": {},
   "outputs": [
    {
     "ename": "SyntaxError",
     "evalue": "unexpected EOF while parsing (Temp/ipykernel_14460/1261304712.py, line 1)",
     "output_type": "error",
     "traceback": [
      "\u001b[1;36m  File \u001b[1;32m\"C:\\Users\\reach\\AppData\\Local\\Temp/ipykernel_14460/1261304712.py\"\u001b[1;36m, line \u001b[1;32m1\u001b[0m\n\u001b[1;33m    'm'.join(reversed (\"zandu\")\u001b[0m\n\u001b[1;37m                               ^\u001b[0m\n\u001b[1;31mSyntaxError\u001b[0m\u001b[1;31m:\u001b[0m unexpected EOF while parsing\n"
     ]
    }
   ],
   "source": [
    "'m'.join(reversed(\"zandu\")"
   ]
  },
  {
   "cell_type": "code",
   "execution_count": 119,
   "id": "604848a2",
   "metadata": {},
   "outputs": [
    {
     "data": {
      "text/plain": [
       "'umdmnmamz'"
      ]
     },
     "execution_count": 119,
     "metadata": {},
     "output_type": "execute_result"
    }
   ],
   "source": [
    "'m'.join(reversed(\"zandu\"))"
   ]
  },
  {
   "cell_type": "code",
   "execution_count": 120,
   "id": "7031798c",
   "metadata": {},
   "outputs": [
    {
     "ename": "SyntaxError",
     "evalue": "invalid syntax (Temp/ipykernel_14460/3860928283.py, line 1)",
     "output_type": "error",
     "traceback": [
      "\u001b[1;36m  File \u001b[1;32m\"C:\\Users\\reach\\AppData\\Local\\Temp/ipykernel_14460/3860928283.py\"\u001b[1;36m, line \u001b[1;32m1\u001b[0m\n\u001b[1;33m    WHEREVER THERE IS /t = Use 3 SPACES\u001b[0m\n\u001b[1;37m             ^\u001b[0m\n\u001b[1;31mSyntaxError\u001b[0m\u001b[1;31m:\u001b[0m invalid syntax\n"
     ]
    }
   ],
   "source": [
    "WHEREVER THERE IS /t = Use 3 SPACES (Expand Tabs)"
   ]
  },
  {
   "cell_type": "code",
   "execution_count": 121,
   "id": "61a92866",
   "metadata": {},
   "outputs": [
    {
     "data": {
      "text/plain": [
       "'ZANDU'"
      ]
     },
     "execution_count": 121,
     "metadata": {},
     "output_type": "execute_result"
    }
   ],
   "source": [
    "z"
   ]
  },
  {
   "cell_type": "code",
   "execution_count": 128,
   "id": "392f671c",
   "metadata": {},
   "outputs": [],
   "source": [
    "z='zandu\\tbalm'"
   ]
  },
  {
   "cell_type": "code",
   "execution_count": 129,
   "id": "8e3c7835",
   "metadata": {},
   "outputs": [
    {
     "data": {
      "text/plain": [
       "'zandu   balm'"
      ]
     },
     "execution_count": 129,
     "metadata": {},
     "output_type": "execute_result"
    }
   ],
   "source": [
    "z.expandtabs()"
   ]
  },
  {
   "cell_type": "code",
   "execution_count": null,
   "id": "5c4035dd",
   "metadata": {},
   "outputs": [],
   "source": []
  }
 ],
 "metadata": {
  "kernelspec": {
   "display_name": "Python 3 (ipykernel)",
   "language": "python",
   "name": "python3"
  },
  "language_info": {
   "codemirror_mode": {
    "name": "ipython",
    "version": 3
   },
   "file_extension": ".py",
   "mimetype": "text/x-python",
   "name": "python",
   "nbconvert_exporter": "python",
   "pygments_lexer": "ipython3",
   "version": "3.9.7"
  }
 },
 "nbformat": 4,
 "nbformat_minor": 5
}
